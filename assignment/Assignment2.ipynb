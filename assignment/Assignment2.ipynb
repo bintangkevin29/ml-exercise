{
 "cells": [
  {
   "attachments": {},
   "cell_type": "markdown",
   "metadata": {},
   "source": [
    "## **Assignment 2 Machine Learning**\n",
    "#### Bintang Kevin Hizkia Samosir (2402273590)"
   ]
  },
  {
   "attachments": {},
   "cell_type": "markdown",
   "metadata": {},
   "source": [
    "## Problem\n",
    "| Transaction ID | Items bought |\n",
    "| --- | --- |\n",
    "| T1 | pen, bread, butter |\n",
    "| T2 | bread, butter, egg, milk |\n",
    "| T3 | spinach, egg, milk |\n",
    "| T4 | bread, butter |\n",
    "| T5 | bread, butter, ketchup, egg, milk |\n",
    "\n",
    "Trace the results of using the Apriori algorithm on the data above with support threshold \n",
    "s=28% and confidence threshold c=70%. \n",
    "- Show the candidate and frequent itemsets for each database scan. Enumerate all the \n",
    "final frequent itemsets.\n",
    "- Also indicate the association rules that are generated and highlight the strong ones, sort \n",
    "them by confidence"
   ]
  },
  {
   "attachments": {},
   "cell_type": "markdown",
   "metadata": {},
   "source": [
    "## Answer\n",
    "\n",
    "**1. Import all dependencies, we are going to use Apriori algorithm in Python using the `mlxtend` library**"
   ]
  },
  {
   "cell_type": "code",
   "execution_count": 3,
   "metadata": {},
   "outputs": [],
   "source": [
    "import pandas as pd\n",
    "from mlxtend.preprocessing import TransactionEncoder\n",
    "from mlxtend.frequent_patterns import apriori, association_rules"
   ]
  },
  {
   "attachments": {},
   "cell_type": "markdown",
   "metadata": {},
   "source": [
    "**2. Declare transaction data**"
   ]
  },
  {
   "cell_type": "code",
   "execution_count": 4,
   "metadata": {},
   "outputs": [],
   "source": [
    "dataset = [\n",
    "    ['pen', 'bread', 'butter'],\n",
    "    ['bread', 'butter', 'egg', 'milk'],\n",
    "    ['spinach', 'egg', 'milk'],\n",
    "    ['bread', 'butter'],\n",
    "    ['bread', 'butter', 'ketchup', 'egg', 'milk']\n",
    "]"
   ]
  },
  {
   "attachments": {},
   "cell_type": "markdown",
   "metadata": {},
   "source": [
    "**3. Transform as binary matrix**"
   ]
  },
  {
   "cell_type": "code",
   "execution_count": 5,
   "metadata": {},
   "outputs": [],
   "source": [
    "te = TransactionEncoder()\n",
    "te_ary = te.fit(dataset).transform(dataset)"
   ]
  },
  {
   "attachments": {},
   "cell_type": "markdown",
   "metadata": {},
   "source": [
    "**4. Convert to dataframe**"
   ]
  },
  {
   "cell_type": "code",
   "execution_count": 6,
   "metadata": {},
   "outputs": [
    {
     "name": "stdout",
     "output_type": "stream",
     "text": [
      "   bread  butter    egg  ketchup   milk    pen  spinach\n",
      "0   True    True  False    False  False   True    False\n",
      "1   True    True   True    False   True  False    False\n",
      "2  False   False   True    False   True  False     True\n",
      "3   True    True  False    False  False  False    False\n",
      "4   True    True   True     True   True  False    False\n"
     ]
    }
   ],
   "source": [
    "df = pd.DataFrame(te_ary, columns=te.columns_)\n",
    "print(df)"
   ]
  },
  {
   "attachments": {},
   "cell_type": "markdown",
   "metadata": {},
   "source": [
    "**5. Apply apriori algorithm with support treshold of 28%**\n",
    "  \n",
    "  \n",
    "  > (note: Apologize in advance that `mlxtend`'s function of `apriori` will not show all iterations of database scans as requested in the Assignement. this was due to performance reason since this library usually used in large datasets. I was aware that the assignment require me to show all the iterations of the database scans, I hope this could be forgiven.)\n",
    "\n",
    "From the output we can see that the final itemsets was combined out of 4 scans."
   ]
  },
  {
   "cell_type": "code",
   "execution_count": 8,
   "metadata": {},
   "outputs": [
    {
     "name": "stdout",
     "output_type": "stream",
     "text": [
      "Processing 4 combinations | Sampling itemset size 43\n",
      "    support                    itemsets\n",
      "0       0.8                     (bread)\n",
      "1       0.8                    (butter)\n",
      "2       0.6                       (egg)\n",
      "3       0.6                      (milk)\n",
      "4       0.8             (butter, bread)\n",
      "5       0.4                (egg, bread)\n",
      "6       0.4               (milk, bread)\n",
      "7       0.4               (butter, egg)\n",
      "8       0.4              (butter, milk)\n",
      "9       0.6                 (egg, milk)\n",
      "10      0.4        (butter, egg, bread)\n",
      "11      0.4       (butter, milk, bread)\n",
      "12      0.4          (milk, egg, bread)\n",
      "13      0.4         (butter, egg, milk)\n",
      "14      0.4  (butter, egg, milk, bread)\n"
     ]
    }
   ],
   "source": [
    "frequent_itemsets = apriori(df, min_support=0.28, use_colnames=True, verbose=True)\n",
    "print(frequent_itemsets)\n"
   ]
  },
  {
   "attachments": {},
   "cell_type": "markdown",
   "metadata": {},
   "source": [
    "**6. Generate association rules with confidence treshold of 70%**"
   ]
  },
  {
   "cell_type": "code",
   "execution_count": null,
   "metadata": {},
   "outputs": [
    {
     "name": "stdout",
     "output_type": "stream",
     "text": [
      "              antecedents     consequents  antecedent support   \n",
      "0                (butter)         (bread)                 0.8  \\\n",
      "1                 (bread)        (butter)                 0.8   \n",
      "2                   (egg)          (milk)                 0.6   \n",
      "3                  (milk)           (egg)                 0.6   \n",
      "4           (butter, egg)         (bread)                 0.4   \n",
      "5            (egg, bread)        (butter)                 0.4   \n",
      "6          (butter, milk)         (bread)                 0.4   \n",
      "7           (milk, bread)        (butter)                 0.4   \n",
      "8            (egg, bread)          (milk)                 0.4   \n",
      "9           (milk, bread)           (egg)                 0.4   \n",
      "10          (butter, egg)          (milk)                 0.4   \n",
      "11         (butter, milk)           (egg)                 0.4   \n",
      "12    (butter, egg, milk)         (bread)                 0.4   \n",
      "13   (butter, egg, bread)          (milk)                 0.4   \n",
      "14     (egg, milk, bread)        (butter)                 0.4   \n",
      "15  (butter, milk, bread)           (egg)                 0.4   \n",
      "16          (butter, egg)   (milk, bread)                 0.4   \n",
      "17           (egg, bread)  (butter, milk)                 0.4   \n",
      "18         (butter, milk)    (egg, bread)                 0.4   \n",
      "19          (milk, bread)   (butter, egg)                 0.4   \n",
      "\n",
      "    consequent support  support  confidence      lift  leverage  conviction   \n",
      "0                  0.8      0.8         1.0  1.250000      0.16         inf  \\\n",
      "1                  0.8      0.8         1.0  1.250000      0.16         inf   \n",
      "2                  0.6      0.6         1.0  1.666667      0.24         inf   \n",
      "3                  0.6      0.6         1.0  1.666667      0.24         inf   \n",
      "4                  0.8      0.4         1.0  1.250000      0.08         inf   \n",
      "5                  0.8      0.4         1.0  1.250000      0.08         inf   \n",
      "6                  0.8      0.4         1.0  1.250000      0.08         inf   \n",
      "7                  0.8      0.4         1.0  1.250000      0.08         inf   \n",
      "8                  0.6      0.4         1.0  1.666667      0.16         inf   \n",
      "9                  0.6      0.4         1.0  1.666667      0.16         inf   \n",
      "10                 0.6      0.4         1.0  1.666667      0.16         inf   \n",
      "11                 0.6      0.4         1.0  1.666667      0.16         inf   \n",
      "12                 0.8      0.4         1.0  1.250000      0.08         inf   \n",
      "13                 0.6      0.4         1.0  1.666667      0.16         inf   \n",
      "14                 0.8      0.4         1.0  1.250000      0.08         inf   \n",
      "15                 0.6      0.4         1.0  1.666667      0.16         inf   \n",
      "16                 0.4      0.4         1.0  2.500000      0.24         inf   \n",
      "17                 0.4      0.4         1.0  2.500000      0.24         inf   \n",
      "18                 0.4      0.4         1.0  2.500000      0.24         inf   \n",
      "19                 0.4      0.4         1.0  2.500000      0.24         inf   \n",
      "\n",
      "    zhangs_metric  \n",
      "0        1.000000  \n",
      "1        1.000000  \n",
      "2        1.000000  \n",
      "3        1.000000  \n",
      "4        0.333333  \n",
      "5        0.333333  \n",
      "6        0.333333  \n",
      "7        0.333333  \n",
      "8        0.666667  \n",
      "9        0.666667  \n",
      "10       0.666667  \n",
      "11       0.666667  \n",
      "12       0.333333  \n",
      "13       0.666667  \n",
      "14       0.333333  \n",
      "15       0.666667  \n",
      "16       1.000000  \n",
      "17       1.000000  \n",
      "18       1.000000  \n",
      "19       1.000000  \n"
     ]
    }
   ],
   "source": [
    "rules = association_rules(frequent_itemsets, metric=\"confidence\", min_threshold=0.7)\n",
    "print(rules)"
   ]
  },
  {
   "attachments": {},
   "cell_type": "markdown",
   "metadata": {},
   "source": [
    "**7. Now we are going to print the result in more human-friendly way**"
   ]
  },
  {
   "cell_type": "code",
   "execution_count": null,
   "metadata": {},
   "outputs": [
    {
     "name": "stdout",
     "output_type": "stream",
     "text": [
      "If buy `butter`, then will also buy `bread` (support=0.8, confidence=1.0)\n",
      "If buy `bread`, then will also buy `butter` (support=0.8, confidence=1.0)\n",
      "If buy `egg`, then will also buy `milk` (support=0.6, confidence=1.0)\n",
      "If buy `milk`, then will also buy `egg` (support=0.6, confidence=1.0)\n",
      "If buy `butter, egg`, then will also buy `bread` (support=0.4, confidence=1.0)\n",
      "If buy `egg, bread`, then will also buy `butter` (support=0.4, confidence=1.0)\n",
      "If buy `butter, milk`, then will also buy `bread` (support=0.4, confidence=1.0)\n",
      "If buy `milk, bread`, then will also buy `butter` (support=0.4, confidence=1.0)\n",
      "If buy `egg, bread`, then will also buy `milk` (support=0.4, confidence=1.0)\n",
      "If buy `milk, bread`, then will also buy `egg` (support=0.4, confidence=1.0)\n",
      "If buy `butter, egg`, then will also buy `milk` (support=0.4, confidence=1.0)\n",
      "If buy `butter, milk`, then will also buy `egg` (support=0.4, confidence=1.0)\n",
      "If buy `butter, egg, milk`, then will also buy `bread` (support=0.4, confidence=1.0)\n",
      "If buy `butter, egg, bread`, then will also buy `milk` (support=0.4, confidence=1.0)\n",
      "If buy `egg, milk, bread`, then will also buy `butter` (support=0.4, confidence=1.0)\n",
      "If buy `butter, milk, bread`, then will also buy `egg` (support=0.4, confidence=1.0)\n",
      "If buy `butter, egg`, then will also buy `milk, bread` (support=0.4, confidence=1.0)\n",
      "If buy `egg, bread`, then will also buy `butter, milk` (support=0.4, confidence=1.0)\n",
      "If buy `butter, milk`, then will also buy `egg, bread` (support=0.4, confidence=1.0)\n",
      "If buy `milk, bread`, then will also buy `butter, egg` (support=0.4, confidence=1.0)\n"
     ]
    }
   ],
   "source": [
    "for index, row in rules.iterrows():\n",
    "    antecedent = \", \".join(list(row['antecedents']))\n",
    "    consequent = \", \".join(list(row['consequents']))\n",
    "    support = round(row['support'], 3)\n",
    "    confidence = round(row['confidence'], 3)\n",
    "    lift = round(row['lift'], 3)\n",
    "    print(f\"If buy `{antecedent}`, then will also buy `{consequent}` (support={support}, confidence={confidence})\")"
   ]
  }
 ],
 "metadata": {
  "kernelspec": {
   "display_name": "Python 3",
   "language": "python",
   "name": "python3"
  },
  "language_info": {
   "codemirror_mode": {
    "name": "ipython",
    "version": 3
   },
   "file_extension": ".py",
   "mimetype": "text/x-python",
   "name": "python",
   "nbconvert_exporter": "python",
   "pygments_lexer": "ipython3",
   "version": "3.9.16"
  },
  "orig_nbformat": 4,
  "vscode": {
   "interpreter": {
    "hash": "d9849da1009e5c7e6c732962768443ce31f6074ec967d8d1190803a029b9770d"
   }
  }
 },
 "nbformat": 4,
 "nbformat_minor": 2
}
