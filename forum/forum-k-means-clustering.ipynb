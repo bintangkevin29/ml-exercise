{
 "cells": [
  {
   "attachments": {},
   "cell_type": "markdown",
   "metadata": {},
   "source": [
    "Dear students,\n",
    "\n",
    "Berikut adalah sepuluh sampel data dua dimensi :\n",
    "a(3, 5)  \n",
    "b(7, 3)  \n",
    "c(1, 8)  \n",
    "d(5, 4)  \n",
    "e(4, 6)  \n",
    "r(2, 10)  \n",
    "g(6, 5)  \n",
    "h(9, 2)  \n",
    "\n",
    "Kelompokkan data tersebut dalam dua kelompok dengan metode clustering k-Means. Misalkan pusat cluster diinisialisasi pada titik (3, 5) dan (7, 3). \n",
    "\n",
    "a. Tentukan anggota cluster sesuai metode k-Means  \n",
    "\n",
    "b. Dari hasil (a) tentukan dimana sebaiknya pusat kedua cluster tersebut? "
   ]
  },
  {
   "attachments": {},
   "cell_type": "markdown",
   "metadata": {},
   "source": [
    "### Jawaban\n",
    "\n",
    "1. Import library numpy"
   ]
  },
  {
   "cell_type": "code",
   "execution_count": 111,
   "metadata": {},
   "outputs": [],
   "source": [
    "import numpy as np"
   ]
  },
  {
   "attachments": {},
   "cell_type": "markdown",
   "metadata": {},
   "source": [
    "2. Inisialisiasi data, pusat cluster awal, dan jumlah cluster kedalam vairabel"
   ]
  },
  {
   "cell_type": "code",
   "execution_count": 112,
   "metadata": {},
   "outputs": [],
   "source": [
    "data = np.array([[3, 5], [7, 3], [1, 8], [5, 4], [4, 6], [2, 10], [6, 5], [9, 2]])\n",
    "centroids = np.array([[3, 5], [7, 3]]) "
   ]
  },
  {
   "attachments": {},
   "cell_type": "markdown",
   "metadata": {},
   "source": [
    "3. Menyiapkan fungsi penghitung jarak Eucledian antara dua titik"
   ]
  },
  {
   "cell_type": "code",
   "execution_count": 113,
   "metadata": {},
   "outputs": [],
   "source": [
    "def euclidean_distance(titik1, titik2):\n",
    "    return np.sqrt(np.sum((titik1 - titik2) ** 2))"
   ]
  },
  {
   "attachments": {},
   "cell_type": "markdown",
   "metadata": {},
   "source": [
    "4. Menyiapkan fungsi `k-Means`"
   ]
  },
  {
   "cell_type": "code",
   "execution_count": 114,
   "metadata": {},
   "outputs": [],
   "source": [
    "#membagi titik data ke dalam cluster berdasarkan jarak terdekat ke pusat cluster\n",
    "def assign_clusters(data, centroids):\n",
    "    clusters = []\n",
    "    for i in range(len(data)):\n",
    "        distances = [euclidean_distance(data[i], c) for c in centroids]\n",
    "        cluster = np.argmin(distances)\n",
    "        clusters.append(cluster)\n",
    "    return np.array(clusters)\n",
    "\n",
    "#menghitung rata-rata posisi titik tiap cluster\n",
    "def update_centroids(data, clusters, k):\n",
    "    centroids = []\n",
    "    for i in range(k):\n",
    "        cluster_data = data[clusters == i]\n",
    "        centroid = np.mean(cluster_data, axis=0)\n",
    "        centroids.append(centroid)\n",
    "    return np.array(centroids)\n",
    " \n",
    "def k_means(data, centroids, k, max_iterations=100):\n",
    "    for i in range(max_iterations):\n",
    "        clusters = assign_clusters(data, centroids)\n",
    "        new_centroids = update_centroids(data, clusters, k)\n",
    "        if np.all(centroids == new_centroids):\n",
    "            break\n",
    "        centroids = new_centroids\n",
    "    return clusters, centroids"
   ]
  },
  {
   "attachments": {},
   "cell_type": "markdown",
   "metadata": {},
   "source": [
    "5. Menjalankan `k-Means`"
   ]
  },
  {
   "cell_type": "code",
   "execution_count": 115,
   "metadata": {},
   "outputs": [],
   "source": [
    "clusters, centroids = k_means(data, centroids, k=2)"
   ]
  },
  {
   "attachments": {},
   "cell_type": "markdown",
   "metadata": {},
   "source": [
    "6. Tampilkan hasil untuk jawaban poin `a` dan `b`"
   ]
  },
  {
   "cell_type": "code",
   "execution_count": 116,
   "metadata": {},
   "outputs": [
    {
     "name": "stdout",
     "output_type": "stream",
     "text": [
      "Cluster 1:\n",
      "[3 5]\n",
      "[1 8]\n",
      "[4 6]\n",
      "[ 2 10]\n",
      "\n",
      "Cluster 2:\n",
      "[7 3]\n",
      "[5 4]\n",
      "[6 5]\n",
      "[9 2]\n",
      "\n",
      "Pusat Cluster:\n",
      "[2.5  7.25]\n",
      "[6.75 3.5 ]\n"
     ]
    }
   ],
   "source": [
    "# Tampilkan hasil pengelompokan\n",
    "for i in range(2):\n",
    "    print(\"Cluster {}:\".format(i+1))\n",
    "    for j in range(len(data)):\n",
    "        if clusters[j] == i:\n",
    "            print(data[j])\n",
    "    print()\n",
    "\n",
    "# Tampilkan pusat cluster yang baru\n",
    "print(\"Pusat Cluster:\")\n",
    "for centroid in centroids:\n",
    "    print(centroid)"
   ]
  }
 ],
 "metadata": {
  "kernelspec": {
   "display_name": "Python 3",
   "language": "python",
   "name": "python3"
  },
  "language_info": {
   "codemirror_mode": {
    "name": "ipython",
    "version": 3
   },
   "file_extension": ".py",
   "mimetype": "text/x-python",
   "name": "python",
   "nbconvert_exporter": "python",
   "pygments_lexer": "ipython3",
   "version": "3.10.6"
  },
  "orig_nbformat": 4
 },
 "nbformat": 4,
 "nbformat_minor": 2
}
