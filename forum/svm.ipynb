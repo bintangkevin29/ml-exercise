{
 "cells": [
  {
   "attachments": {},
   "cell_type": "markdown",
   "metadata": {},
   "source": [
    "### Tugas Forum Machine Learning BINUS BGP\n",
    "#### Bintang Kevin Hizkia Samosir"
   ]
  },
  {
   "attachments": {},
   "cell_type": "markdown",
   "metadata": {},
   "source": [
    "Diberikan dataset 2-dim dua kelas y = {+1, -1} yang terpisah secara linier. \n",
    "| x1 | x2 | y |\n",
    "| --- | --- | --- |\n",
    "| 0.3858 | 0.4687  |\t1 |\n",
    "| 0.4871 | 0.611 | –1 |\n",
    "| 0.9218 | 0.4103 | –1 |\n",
    "| 0.7382 | 0.8936 | –1 | \n",
    "| 0.1763 | 0.0579 | 1 |\n",
    "| 0.4057 | 0.3529 | 1 |\n",
    "| 0.9355 | 0.8132 | –1 |\n",
    "| 0.2146 | 0.0099 | 1 |\n",
    "\n",
    "Dengan data tersebut, sebuah hyperplane bidang pemisah dapat dibangun dengan SVM. Dari hasil pelatihan SVM diperoleh nilai parameter sbb.:\n",
    "\n",
    "![equation1](http://www.sciweavers.org/tex2img.php?eq=w%20%3D%20%5Cbegin%7Bbmatrix%7D-6.64%20%5C%5C-9.32%20%5Cend%7Bbmatrix%7D%20&bc=Black&fc=White&im=png&fs=12&ff=arev&edit=0)\n",
    "\n",
    "dan\n",
    "\n",
    "![equation2](http://www.sciweavers.org/tex2img.php?eq=w_%7B0%7D%3D7.93&bc=Black&fc=White&im=png&fs=12&ff=arev&edit=0)\n",
    "\n",
    "1. Tuliskan persamaan bidang pemisah\n",
    "2. Tuliskan persamaan klasifikator linier\n",
    "3. Tuliskan klasifikasi untuk x=[0.61 0.42] dengan klasifikator tersebut"
   ]
  },
  {
   "attachments": {},
   "cell_type": "markdown",
   "metadata": {},
   "source": [
    "### Jawaban"
   ]
  },
  {
   "attachments": {},
   "cell_type": "markdown",
   "metadata": {},
   "source": [
    "Melakukan import library `scikit-learn`"
   ]
  },
  {
   "cell_type": "code",
   "execution_count": 1,
   "metadata": {},
   "outputs": [],
   "source": [
    "from sklearn.svm import SVC"
   ]
  },
  {
   "attachments": {},
   "cell_type": "markdown",
   "metadata": {},
   "source": [
    "Memasukkan nilai ke variabel x dan y"
   ]
  },
  {
   "cell_type": "code",
   "execution_count": 2,
   "metadata": {},
   "outputs": [],
   "source": [
    "X = [[0.3858, 0.4687],\n",
    "     [0.4871, 0.611],\n",
    "     [0.9218, 0.4103],\n",
    "     [0.7382, 0.8936],\n",
    "     [0.1763, 0.0579],\n",
    "     [0.4057, 0.3529],\n",
    "     [0.9355, 0.8132],\n",
    "     [0.2146, 0.0099]]\n",
    "     \n",
    "y = [1, -1, -1, -1, 1, 1, -1, 1]"
   ]
  },
  {
   "attachments": {},
   "cell_type": "markdown",
   "metadata": {},
   "source": [
    "Melakukan training dengan kernel linear"
   ]
  },
  {
   "cell_type": "code",
   "execution_count": 3,
   "metadata": {},
   "outputs": [
    {
     "data": {
      "text/html": [
       "<style>#sk-container-id-1 {color: black;background-color: white;}#sk-container-id-1 pre{padding: 0;}#sk-container-id-1 div.sk-toggleable {background-color: white;}#sk-container-id-1 label.sk-toggleable__label {cursor: pointer;display: block;width: 100%;margin-bottom: 0;padding: 0.3em;box-sizing: border-box;text-align: center;}#sk-container-id-1 label.sk-toggleable__label-arrow:before {content: \"▸\";float: left;margin-right: 0.25em;color: #696969;}#sk-container-id-1 label.sk-toggleable__label-arrow:hover:before {color: black;}#sk-container-id-1 div.sk-estimator:hover label.sk-toggleable__label-arrow:before {color: black;}#sk-container-id-1 div.sk-toggleable__content {max-height: 0;max-width: 0;overflow: hidden;text-align: left;background-color: #f0f8ff;}#sk-container-id-1 div.sk-toggleable__content pre {margin: 0.2em;color: black;border-radius: 0.25em;background-color: #f0f8ff;}#sk-container-id-1 input.sk-toggleable__control:checked~div.sk-toggleable__content {max-height: 200px;max-width: 100%;overflow: auto;}#sk-container-id-1 input.sk-toggleable__control:checked~label.sk-toggleable__label-arrow:before {content: \"▾\";}#sk-container-id-1 div.sk-estimator input.sk-toggleable__control:checked~label.sk-toggleable__label {background-color: #d4ebff;}#sk-container-id-1 div.sk-label input.sk-toggleable__control:checked~label.sk-toggleable__label {background-color: #d4ebff;}#sk-container-id-1 input.sk-hidden--visually {border: 0;clip: rect(1px 1px 1px 1px);clip: rect(1px, 1px, 1px, 1px);height: 1px;margin: -1px;overflow: hidden;padding: 0;position: absolute;width: 1px;}#sk-container-id-1 div.sk-estimator {font-family: monospace;background-color: #f0f8ff;border: 1px dotted black;border-radius: 0.25em;box-sizing: border-box;margin-bottom: 0.5em;}#sk-container-id-1 div.sk-estimator:hover {background-color: #d4ebff;}#sk-container-id-1 div.sk-parallel-item::after {content: \"\";width: 100%;border-bottom: 1px solid gray;flex-grow: 1;}#sk-container-id-1 div.sk-label:hover label.sk-toggleable__label {background-color: #d4ebff;}#sk-container-id-1 div.sk-serial::before {content: \"\";position: absolute;border-left: 1px solid gray;box-sizing: border-box;top: 0;bottom: 0;left: 50%;z-index: 0;}#sk-container-id-1 div.sk-serial {display: flex;flex-direction: column;align-items: center;background-color: white;padding-right: 0.2em;padding-left: 0.2em;position: relative;}#sk-container-id-1 div.sk-item {position: relative;z-index: 1;}#sk-container-id-1 div.sk-parallel {display: flex;align-items: stretch;justify-content: center;background-color: white;position: relative;}#sk-container-id-1 div.sk-item::before, #sk-container-id-1 div.sk-parallel-item::before {content: \"\";position: absolute;border-left: 1px solid gray;box-sizing: border-box;top: 0;bottom: 0;left: 50%;z-index: -1;}#sk-container-id-1 div.sk-parallel-item {display: flex;flex-direction: column;z-index: 1;position: relative;background-color: white;}#sk-container-id-1 div.sk-parallel-item:first-child::after {align-self: flex-end;width: 50%;}#sk-container-id-1 div.sk-parallel-item:last-child::after {align-self: flex-start;width: 50%;}#sk-container-id-1 div.sk-parallel-item:only-child::after {width: 0;}#sk-container-id-1 div.sk-dashed-wrapped {border: 1px dashed gray;margin: 0 0.4em 0.5em 0.4em;box-sizing: border-box;padding-bottom: 0.4em;background-color: white;}#sk-container-id-1 div.sk-label label {font-family: monospace;font-weight: bold;display: inline-block;line-height: 1.2em;}#sk-container-id-1 div.sk-label-container {text-align: center;}#sk-container-id-1 div.sk-container {/* jupyter's `normalize.less` sets `[hidden] { display: none; }` but bootstrap.min.css set `[hidden] { display: none !important; }` so we also need the `!important` here to be able to override the default hidden behavior on the sphinx rendered scikit-learn.org. See: https://github.com/scikit-learn/scikit-learn/issues/21755 */display: inline-block !important;position: relative;}#sk-container-id-1 div.sk-text-repr-fallback {display: none;}</style><div id=\"sk-container-id-1\" class=\"sk-top-container\"><div class=\"sk-text-repr-fallback\"><pre>SVC(kernel=&#x27;linear&#x27;)</pre><b>In a Jupyter environment, please rerun this cell to show the HTML representation or trust the notebook. <br />On GitHub, the HTML representation is unable to render, please try loading this page with nbviewer.org.</b></div><div class=\"sk-container\" hidden><div class=\"sk-item\"><div class=\"sk-estimator sk-toggleable\"><input class=\"sk-toggleable__control sk-hidden--visually\" id=\"sk-estimator-id-1\" type=\"checkbox\" checked><label for=\"sk-estimator-id-1\" class=\"sk-toggleable__label sk-toggleable__label-arrow\">SVC</label><div class=\"sk-toggleable__content\"><pre>SVC(kernel=&#x27;linear&#x27;)</pre></div></div></div></div></div>"
      ],
      "text/plain": [
       "SVC(kernel='linear')"
      ]
     },
     "execution_count": 3,
     "metadata": {},
     "output_type": "execute_result"
    }
   ],
   "source": [
    "model = SVC(kernel='linear')\n",
    "model.fit(X,y)"
   ]
  },
  {
   "attachments": {},
   "cell_type": "markdown",
   "metadata": {},
   "source": [
    "Mengambil koefisien untuk dimasukkan kedalam persamaan bidang pemisah"
   ]
  },
  {
   "cell_type": "code",
   "execution_count": 4,
   "metadata": {},
   "outputs": [
    {
     "name": "stdout",
     "output_type": "stream",
     "text": [
      "Persamaan Bidang Pemisah (w1*x1 + w2*x2 + b = 0): -1.3761454367447454x1 + -1.2547451787169566x2 + 1.3077427859454636 = 0\n",
      "Persamaan Klasifikator Linier (w*x + b = 0):  -1.3761454367447454*x1 + -1.2547451787169566*x2 + (1.3077427859454636) = 0\n"
     ]
    }
   ],
   "source": [
    "w = model.coef_[0]\n",
    "b = model.intercept_\n",
    "\n",
    "print(\"Persamaan Bidang Pemisah (w1*x1 + w2*x2 + b = 0): {}x1 + {}x2 + {} = 0\".format(w[0], w[1], b[0]))\n",
    "print(\"Persamaan Klasifikator Linier (w*x + b = 0):  {}*x1 + {}*x2 + ({}) = 0\".format(w[0], w[1], b[0])) \n"
   ]
  },
  {
   "attachments": {},
   "cell_type": "markdown",
   "metadata": {},
   "source": [
    "Menentukan klasifikasi untuk x = [0.61 0.42] dengan klasifikator `b` yang sudah didapatkan.\n",
    "\n",
    "Untuk menentukan klasifikasi akan mencari kondisi apakah `np.dot(w, x) + b > 0`, jika trrue makan masuk ke class positive (+1), jika sebaliknya akan masuk class negative (-1)"
   ]
  },
  {
   "cell_type": "code",
   "execution_count": 5,
   "metadata": {},
   "outputs": [
    {
     "name": "stdout",
     "output_type": "stream",
     "text": [
      "Nilai b = [1.30774279]\n",
      "Klasifikasi x = [0.61 0.42] adalah: -1\n"
     ]
    }
   ],
   "source": [
    "import numpy as np\n",
    "\n",
    "print(\"Nilai b = {}\".format(b))\n",
    "wording = \"Klasifikasi x = [0.61 0.42] adalah:\"\n",
    "\n",
    "x = [0.61, 0.42]\n",
    "if np.dot(w, x) + b > 0:\n",
    "    print(\"{} +1\".format(wording))\n",
    "else:\n",
    "    print(\"{} -1\".format(wording))\n"
   ]
  }
 ],
 "metadata": {
  "kernelspec": {
   "display_name": "Python 3",
   "language": "python",
   "name": "python3"
  },
  "language_info": {
   "codemirror_mode": {
    "name": "ipython",
    "version": 3
   },
   "file_extension": ".py",
   "mimetype": "text/x-python",
   "name": "python",
   "nbconvert_exporter": "python",
   "pygments_lexer": "ipython3",
   "version": "3.10.6"
  },
  "orig_nbformat": 4
 },
 "nbformat": 4,
 "nbformat_minor": 2
}
