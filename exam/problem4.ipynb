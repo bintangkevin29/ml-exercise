{
 "cells": [
  {
   "attachments": {},
   "cell_type": "markdown",
   "metadata": {},
   "source": [
    "# Problem 4\n",
    "\n",
    "Anda diberi data pasangan (x1, x2) yang tidak berlabel seperti pada tabel berikut.\n",
    "| Data # | x1 | x2 |\n",
    "| --- | --- | --- |\n",
    "| 1 | 1.14 | 2.11 |\n",
    "| 2 | 1.90 | 0.97 |\n",
    "| 3 | 3.17 | 4.96 |\n",
    "| 4 | 5.02 | 3.02 |\n",
    "| 5 | 1.76 | 0.84 |\n",
    "| 6 | 2.32 | 1.63 |\n",
    "| 7 | 2.25 | 3.47 |\n",
    "| 8 | 5.74 | 3.84 |\n",
    "| 9 | 4.71 | 3.60 |\n",
    "| 10 | 2.31 | 2.09 |\n",
    "\n",
    "Anda diminta melakukan clustering data tersebut dalam dua cluster menggunakan Gaussian mixture Models (GMM). Lakukan inisialisasi dua pusat cluster dengan memilih dua titik data yang ada pada tabel, inisialisasi prior probability tiap cluster = $0.5$, dan standar deviasi tiap cluster adalah setengah dari jarak antara kedua pusat tersebut\n",
    "\n",
    "<ol type=\"a\">\n",
    "  <li>Dengan nilai inisialisasi di atas: (i) tuliskan persamaan GMM dan (ii) hitung nilai \n",
    "keanggotaan cluster untuk setiap titik data pada tabel</li>\n",
    "  <li>Hitung Rand Index untuk evaluasi clustering dan tulis analisis Anda</li>\n",
    "  <li>Gunakan algoritma EM untuk update parameter GMM (1 epoch). Tuliskan parameter \n",
    "setelah update. Anda boleh menggunakan perangkat lunak apa saja yang sesuai</li>\n",
    "</ol>\n",
    "\n",
    "**Solution**\n",
    "-"
   ]
  }
 ],
 "metadata": {
  "kernelspec": {
   "display_name": "Python 3",
   "language": "python",
   "name": "python3"
  },
  "language_info": {
   "codemirror_mode": {
    "name": "ipython",
    "version": 3
   },
   "file_extension": ".py",
   "mimetype": "text/x-python",
   "name": "python",
   "nbconvert_exporter": "python",
   "pygments_lexer": "ipython3",
   "version": "3.10.6"
  },
  "orig_nbformat": 4
 },
 "nbformat": 4,
 "nbformat_minor": 2
}
