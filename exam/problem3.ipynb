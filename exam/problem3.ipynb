{
 "cells": [
  {
   "attachments": {},
   "cell_type": "markdown",
   "metadata": {},
   "source": [
    "# Problem 3\n",
    "\n",
    "Diberikan dataset EmployeeSatisfactionIndex.csv yang dapat diakses melalui https://bit.ly/empSatisfactionIdx. Dataset terdiri dari 11 atribut untuk menentukan apakah karyawan puas (satisfied = 1) atau tidak puas (satisfied = 0). Gunakan ANN untuk klasifikasi. Anda boleh menggunakan TensorFlow/Keras/Scikitlearn untuk implementasi ANN dengan Python. Lakukan penyesuaian parameter (tuning) untuk mendapatkan parameter optimal sehingga mencapai akurasi klasifikasi terbaik. Beberapa parameter yang harus Anda sesuaikan adalah: \n",
    "- Number of ANN layers\n",
    "- Learning rate\n",
    "- Number of epochs\n",
    "- Optimizer\n",
    "Laporakan hasil eksperimen, analisis kinerja model, dan kesimpulan Anda\n",
    "\n",
    "**Solution**\n",
    "\n",
    "1. Siapkan library yang akan dipakai, dan import data csv"
   ]
  },
  {
   "cell_type": "code",
   "execution_count": 39,
   "metadata": {},
   "outputs": [],
   "source": [
    "import pandas as pd\n",
    "from sklearn.model_selection import train_test_split\n",
    "from sklearn.preprocessing import LabelEncoder, StandardScaler\n",
    "from sklearn.neural_network import MLPClassifier\n",
    "from sklearn.metrics import accuracy_score\n",
    "\n",
    "data = pd.read_csv('EmployeeSatisfactionIndex.csv')"
   ]
  },
  {
   "attachments": {},
   "cell_type": "markdown",
   "metadata": {},
   "source": [
    "2. Lakukan preprocessing terhadap dataset, kita akan mengubah data numerikal dengan label-encoding"
   ]
  },
  {
   "cell_type": "code",
   "execution_count": 40,
   "metadata": {},
   "outputs": [],
   "source": [
    "label_encoder = LabelEncoder()\n",
    "data['Dept'] = label_encoder.fit_transform(data['Dept'])\n",
    "data['location'] = label_encoder.fit_transform(data['location'])\n",
    "data['education'] = label_encoder.fit_transform(data['education'])\n",
    "data['recruitment_type'] = label_encoder.fit_transform(data['recruitment_type'])"
   ]
  },
  {
   "attachments": {},
   "cell_type": "markdown",
   "metadata": {},
   "source": [
    "3. Memisahkan fitur dan label"
   ]
  },
  {
   "cell_type": "code",
   "execution_count": 41,
   "metadata": {},
   "outputs": [],
   "source": [
    "X = data.drop('satisfied', axis=1)\n",
    "y = data['satisfied']"
   ]
  },
  {
   "attachments": {},
   "cell_type": "markdown",
   "metadata": {},
   "source": [
    "4. Normalisasi terhadap fitur-fitur numerik"
   ]
  },
  {
   "cell_type": "code",
   "execution_count": 42,
   "metadata": {},
   "outputs": [],
   "source": [
    "scaler = StandardScaler()\n",
    "X[['age', 'job_level', 'rating', 'onsite', 'awards', 'certifications', 'salary']] = scaler.fit_transform(X[['age', 'job_level', 'rating', 'onsite', 'awards', 'certifications', 'salary']])\n"
   ]
  },
  {
   "attachments": {},
   "cell_type": "markdown",
   "metadata": {},
   "source": [
    "5. Melakukan split pada dataset untuk mendapat data latih dan data uji"
   ]
  },
  {
   "cell_type": "code",
   "execution_count": 43,
   "metadata": {},
   "outputs": [],
   "source": [
    "X_train, X_test, y_train, y_test = train_test_split(X, y, test_size=0.2, random_state=42)"
   ]
  },
  {
   "attachments": {},
   "cell_type": "markdown",
   "metadata": {},
   "source": [
    "6. Membuat fungsi training agar lebih mudah dalam eksperimen menguji tuning parameter "
   ]
  },
  {
   "cell_type": "code",
   "execution_count": 44,
   "metadata": {},
   "outputs": [],
   "source": [
    "def train_ann(hidden_layer_sizes, learning_rate_init, max_iter, solver):\n",
    "    # Membangun model ANN\n",
    "    model = MLPClassifier()\n",
    " \n",
    "    model.hidden_layer_sizes = hidden_layer_sizes  # Jumlah neuron dalam setiap hidden layer\n",
    "    model.learning_rate_init = learning_rate_init  # Learning rate\n",
    "    model.max_iter = max_iter  # Jumlah epoch\n",
    "    model.solver = solver  # Optimizer\n",
    "\n",
    "\n",
    "  # Melatih model\n",
    "    model.fit(X_train, y_train)\n",
    "\n",
    "    # Memprediksi label pada data test\n",
    "    y_pred = model.predict(X_test)\n",
    "\n",
    "    # Menghitung akurasi\n",
    "    accuracy = accuracy_score(y_test, y_pred)\n",
    "\n",
    "    \n",
    "    # Menampilkan parameter yang digunakan\n",
    "    print(\"Tuning Parameter:\")\n",
    "    print(\"Hidden Layer Sizes:\", hidden_layer_sizes)\n",
    "    print(\"Learning Rate:\", learning_rate_init)\n",
    "    print(\"Max Iterations:\", max_iter)\n",
    "    print(\"Solver:\", solver) \n",
    "    \n",
    "    # Menampilkan hasil akurasi\n",
    "    print(\"Accuracy: \", accuracy)\n"
   ]
  },
  {
   "attachments": {},
   "cell_type": "markdown",
   "metadata": {},
   "source": [
    "**Percobaan Tuning Parameter**\n",
    "\n",
    "Percobaan 1:"
   ]
  },
  {
   "cell_type": "code",
   "execution_count": 64,
   "metadata": {},
   "outputs": [
    {
     "name": "stdout",
     "output_type": "stream",
     "text": [
      "Tuning Parameter:\n",
      "Hidden Layer Sizes: (200, 200)\n",
      "Learning Rate: 0.001\n",
      "Max Iterations: 200\n",
      "Solver: adam\n",
      "Accuracy:  0.57\n"
     ]
    },
    {
     "name": "stderr",
     "output_type": "stream",
     "text": [
      "/home/bintangkevin29/.local/lib/python3.10/site-packages/sklearn/neural_network/_multilayer_perceptron.py:686: ConvergenceWarning: Stochastic Optimizer: Maximum iterations (200) reached and the optimization hasn't converged yet.\n",
      "  warnings.warn(\n"
     ]
    }
   ],
   "source": [
    "train_ann((200,200), 0.001, 200, 'adam')"
   ]
  },
  {
   "attachments": {},
   "cell_type": "markdown",
   "metadata": {},
   "source": [
    "Percobaan 2:"
   ]
  },
  {
   "cell_type": "code",
   "execution_count": 84,
   "metadata": {},
   "outputs": [
    {
     "name": "stdout",
     "output_type": "stream",
     "text": [
      "Tuning Parameter:\n",
      "Hidden Layer Sizes: (100, 100)\n",
      "Learning Rate: 0.001\n",
      "Max Iterations: 200\n",
      "Solver: adam\n",
      "Accuracy:  0.5\n"
     ]
    },
    {
     "name": "stderr",
     "output_type": "stream",
     "text": [
      "/home/bintangkevin29/.local/lib/python3.10/site-packages/sklearn/neural_network/_multilayer_perceptron.py:686: ConvergenceWarning: Stochastic Optimizer: Maximum iterations (200) reached and the optimization hasn't converged yet.\n",
      "  warnings.warn(\n"
     ]
    }
   ],
   "source": [
    "train_ann((100,100), 0.001, 200, 'adam')"
   ]
  },
  {
   "attachments": {},
   "cell_type": "markdown",
   "metadata": {},
   "source": [
    "Percobaan 3"
   ]
  },
  {
   "cell_type": "code",
   "execution_count": 83,
   "metadata": {},
   "outputs": [
    {
     "name": "stdout",
     "output_type": "stream",
     "text": [
      "Tuning Parameter:\n",
      "Hidden Layer Sizes: (200, 200)\n",
      "Learning Rate: 0.01\n",
      "Max Iterations: 200\n",
      "Solver: adam\n",
      "Accuracy:  0.6\n"
     ]
    }
   ],
   "source": [
    "train_ann((200,200), 0.01, 200, 'adam')"
   ]
  },
  {
   "attachments": {},
   "cell_type": "markdown",
   "metadata": {},
   "source": [
    "Percobaan 4"
   ]
  },
  {
   "cell_type": "code",
   "execution_count": 90,
   "metadata": {},
   "outputs": [
    {
     "name": "stdout",
     "output_type": "stream",
     "text": [
      "Tuning Parameter:\n",
      "Hidden Layer Sizes: (200, 200)\n",
      "Learning Rate: 0.01\n",
      "Max Iterations: 300\n",
      "Solver: adam\n",
      "Accuracy:  0.56\n"
     ]
    }
   ],
   "source": [
    "train_ann((200,200), 0.01, 300, 'adam')"
   ]
  },
  {
   "attachments": {},
   "cell_type": "markdown",
   "metadata": {},
   "source": [
    "Percobaan 5"
   ]
  },
  {
   "cell_type": "code",
   "execution_count": 94,
   "metadata": {},
   "outputs": [
    {
     "name": "stdout",
     "output_type": "stream",
     "text": [
      "Tuning Parameter:\n",
      "Hidden Layer Sizes: (200, 200)\n",
      "Learning Rate: 0.01\n",
      "Max Iterations: 200\n",
      "Solver: sgd\n",
      "Accuracy:  0.59\n"
     ]
    },
    {
     "name": "stderr",
     "output_type": "stream",
     "text": [
      "/home/bintangkevin29/.local/lib/python3.10/site-packages/sklearn/neural_network/_multilayer_perceptron.py:686: ConvergenceWarning: Stochastic Optimizer: Maximum iterations (200) reached and the optimization hasn't converged yet.\n",
      "  warnings.warn(\n"
     ]
    }
   ],
   "source": [
    "train_ann((200,200), 0.01, 200, 'sgd')"
   ]
  },
  {
   "attachments": {},
   "cell_type": "markdown",
   "metadata": {},
   "source": [
    "**Analisa**\n",
    "\n",
    "1. **Hidden Layer Sizes:** penggunaan hidden layer sizes (200, 200) cenderung memberikan hasil yang lebih baik dibandingkan dengan (100, 100).\n",
    "2. **Learning Rate:** learning rate 0.01 cenderung memberikan hasil yang lebih baik dibandingkan dengan 0.001.\n",
    "3. **Max Iterations:** peningkatan jumlah iterasi dari 200 menjadi 300 tidak memberikan peningkatan yang signifikan dalam akurasi.\n",
    "4. **Solver:** penggunaan solver 'sgd' pada hasil yang diberikan menghasilkan akurasi yang lebih baik dibandingkan dengan solver 'adam'.\n",
    "\n",
    "Secara umum, peningkatan tuning parameter tidak selalu berarti peningkatan performa model. Setiap parameter memiliki efek yang berbeda terhadap model dan dataset yang digunakan. Penting untuk mencoba berbagai kombinasi parameter untuk menemukan yang paling sesuai dengan dataset yang sedang dihadapi.\n"
   ]
  }
 ],
 "metadata": {
  "kernelspec": {
   "display_name": "Python 3",
   "language": "python",
   "name": "python3"
  },
  "language_info": {
   "codemirror_mode": {
    "name": "ipython",
    "version": 3
   },
   "file_extension": ".py",
   "mimetype": "text/x-python",
   "name": "python",
   "nbconvert_exporter": "python",
   "pygments_lexer": "ipython3",
   "version": "3.10.6"
  },
  "orig_nbformat": 4
 },
 "nbformat": 4,
 "nbformat_minor": 2
}
